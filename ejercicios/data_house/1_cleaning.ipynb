{
 "cells": [
  {
   "cell_type": "code",
   "execution_count": 1,
   "metadata": {},
   "outputs": [],
   "source": [
    "import pandas as pd"
   ]
  },
  {
   "cell_type": "code",
   "execution_count": 2,
   "metadata": {},
   "outputs": [
    {
     "name": "stdout",
     "output_type": "stream",
     "text": [
      "   Id  MSSubClass MSZoning  LotFrontage  LotArea Street Alley LotShape  \\\n",
      "0   1          60       RL         65.0     8450   Pave   NaN      Reg   \n",
      "1   2          20       RL         80.0     9600   Pave   NaN      Reg   \n",
      "2   3          60       RL         68.0    11250   Pave   NaN      IR1   \n",
      "3   4          70       RL         60.0     9550   Pave   NaN      IR1   \n",
      "4   5          60       RL         84.0    14260   Pave   NaN      IR1   \n",
      "\n",
      "  LandContour Utilities  ... PoolArea PoolQC Fence MiscFeature MiscVal MoSold  \\\n",
      "0         Lvl    AllPub  ...        0    NaN   NaN         NaN       0      2   \n",
      "1         Lvl    AllPub  ...        0    NaN   NaN         NaN       0      5   \n",
      "2         Lvl    AllPub  ...        0    NaN   NaN         NaN       0      9   \n",
      "3         Lvl    AllPub  ...        0    NaN   NaN         NaN       0      2   \n",
      "4         Lvl    AllPub  ...        0    NaN   NaN         NaN       0     12   \n",
      "\n",
      "  YrSold  SaleType  SaleCondition  SalePrice  \n",
      "0   2008        WD         Normal     208500  \n",
      "1   2007        WD         Normal     181500  \n",
      "2   2008        WD         Normal     223500  \n",
      "3   2006        WD        Abnorml     140000  \n",
      "4   2008        WD         Normal     250000  \n",
      "\n",
      "[5 rows x 81 columns]\n",
      "\n",
      "-----------------------\n",
      "\n",
      "Index(['Id', 'MSSubClass', 'MSZoning', 'LotFrontage', 'LotArea', 'Street',\n",
      "       'Alley', 'LotShape', 'LandContour', 'Utilities', 'LotConfig',\n",
      "       'LandSlope', 'Neighborhood', 'Condition1', 'Condition2', 'BldgType',\n",
      "       'HouseStyle', 'OverallQual', 'OverallCond', 'YearBuilt', 'YearRemodAdd',\n",
      "       'RoofStyle', 'RoofMatl', 'Exterior1st', 'Exterior2nd', 'MasVnrType',\n",
      "       'MasVnrArea', 'ExterQual', 'ExterCond', 'Foundation', 'BsmtQual',\n",
      "       'BsmtCond', 'BsmtExposure', 'BsmtFinType1', 'BsmtFinSF1',\n",
      "       'BsmtFinType2', 'BsmtFinSF2', 'BsmtUnfSF', 'TotalBsmtSF', 'Heating',\n",
      "       'HeatingQC', 'CentralAir', 'Electrical', '1stFlrSF', '2ndFlrSF',\n",
      "       'LowQualFinSF', 'GrLivArea', 'BsmtFullBath', 'BsmtHalfBath', 'FullBath',\n",
      "       'HalfBath', 'BedroomAbvGr', 'KitchenAbvGr', 'KitchenQual',\n",
      "       'TotRmsAbvGrd', 'Functional', 'Fireplaces', 'FireplaceQu', 'GarageType',\n",
      "       'GarageYrBlt', 'GarageFinish', 'GarageCars', 'GarageArea', 'GarageQual',\n",
      "       'GarageCond', 'PavedDrive', 'WoodDeckSF', 'OpenPorchSF',\n",
      "       'EnclosedPorch', '3SsnPorch', 'ScreenPorch', 'PoolArea', 'PoolQC',\n",
      "       'Fence', 'MiscFeature', 'MiscVal', 'MoSold', 'YrSold', 'SaleType',\n",
      "       'SaleCondition', 'SalePrice'],\n",
      "      dtype='object')\n"
     ]
    }
   ],
   "source": [
    "df=pd.read_csv('../../datos/house/house-price-data.csv')\n",
    "\n",
    "print(df.head())\n",
    "\n",
    "print('\\n-----------------------\\n')\n",
    "\n",
    "print(df.columns)"
   ]
  },
  {
   "cell_type": "code",
   "execution_count": 3,
   "metadata": {},
   "outputs": [
    {
     "name": "stdout",
     "output_type": "stream",
     "text": [
      "LotFrontage      259\n",
      "Alley           1369\n",
      "MasVnrType       872\n",
      "MasVnrArea         8\n",
      "BsmtQual          37\n",
      "BsmtCond          37\n",
      "BsmtExposure      38\n",
      "BsmtFinType1      37\n",
      "BsmtFinType2      38\n",
      "Electrical         1\n",
      "FireplaceQu      690\n",
      "GarageType        81\n",
      "GarageYrBlt       81\n",
      "GarageFinish      81\n",
      "GarageQual        81\n",
      "GarageCond        81\n",
      "PoolQC          1453\n",
      "Fence           1179\n",
      "MiscFeature     1406\n",
      "dtype: int64\n"
     ]
    }
   ],
   "source": [
    "nulos=df.isnull().sum()\n",
    "nulos=nulos[nulos>0]\n",
    "print(nulos)"
   ]
  },
  {
   "cell_type": "markdown",
   "metadata": {},
   "source": [
    "Consultas de elementos nulos"
   ]
  },
  {
   "cell_type": "code",
   "execution_count": 4,
   "metadata": {},
   "outputs": [
    {
     "name": "stdout",
     "output_type": "stream",
     "text": [
      "Empty DataFrame\n",
      "Columns: [Id, MSSubClass, MSZoning, LotFrontage, LotArea, Street, Alley, LotShape, LandContour, Utilities, LotConfig, LandSlope, Neighborhood, Condition1, Condition2, BldgType, HouseStyle, OverallQual, OverallCond, YearBuilt, YearRemodAdd, RoofStyle, RoofMatl, Exterior1st, Exterior2nd, MasVnrType, MasVnrArea, ExterQual, ExterCond, Foundation, BsmtQual, BsmtCond, BsmtExposure, BsmtFinType1, BsmtFinSF1, BsmtFinType2, BsmtFinSF2, BsmtUnfSF, TotalBsmtSF, Heating, HeatingQC, CentralAir, Electrical, 1stFlrSF, 2ndFlrSF, LowQualFinSF, GrLivArea, BsmtFullBath, BsmtHalfBath, FullBath, HalfBath, BedroomAbvGr, KitchenAbvGr, KitchenQual, TotRmsAbvGrd, Functional, Fireplaces, FireplaceQu, GarageType, GarageYrBlt, GarageFinish, GarageCars, GarageArea, GarageQual, GarageCond, PavedDrive, WoodDeckSF, OpenPorchSF, EnclosedPorch, 3SsnPorch, ScreenPorch, PoolArea, PoolQC, Fence, MiscFeature, MiscVal, MoSold, YrSold, SaleType, SaleCondition, SalePrice]\n",
      "Index: []\n",
      "\n",
      "[0 rows x 81 columns]\n"
     ]
    }
   ],
   "source": [
    "#LotFrontage-Linear feet of street connected to property        259\n",
    "#Sustituir nulos por 0\n",
    "df.loc[df['LotFrontage'].isnull(),'LotFrontage']=0.0\n",
    "print(df[df['LotFrontage'].isnull()])\n"
   ]
  },
  {
   "cell_type": "code",
   "execution_count": 5,
   "metadata": {},
   "outputs": [
    {
     "name": "stdout",
     "output_type": "stream",
     "text": [
      "['N_A' 'Grvl' 'Pave']\n"
     ]
    }
   ],
   "source": [
    "#Alley-Type of alley access to property              1369\n",
    "#Sustituir por 'N_A'\n",
    "df.loc[df['Alley'].isnull(),'Alley']='N_A'\n",
    "print(df['Alley'].unique())"
   ]
  },
  {
   "cell_type": "code",
   "execution_count": 6,
   "metadata": {},
   "outputs": [
    {
     "name": "stdout",
     "output_type": "stream",
     "text": [
      "['BrkFace' 'N_A' 'Stone' 'BrkCmn']\n"
     ]
    }
   ],
   "source": [
    "#MasVnrType-Masonry veneer type         872\n",
    "df[df['MasVnrType'].isnull()][['MasVnrType','MasVnrArea']]\n",
    "#Sustituir valores nulos por 'N_A'\n",
    "df.loc[df['MasVnrType'].isnull(),'MasVnrType']='N_A'\n",
    "print(df['MasVnrType'].unique())\n"
   ]
  },
  {
   "cell_type": "code",
   "execution_count": 7,
   "metadata": {},
   "outputs": [],
   "source": [
    "#MasVnrArea-Masonry veneer area in square feet         8\n",
    "df[df['MasVnrArea'].isnull()][['MasVnrType','MasVnrArea']]\n",
    "#Sustituir valores nulos por 0.0, tal y como estan los otros registros\n",
    "df.loc[df['MasVnrArea'].isnull(),'MasVnrArea']=0.0\n"
   ]
  },
  {
   "cell_type": "code",
   "execution_count": 8,
   "metadata": {},
   "outputs": [
    {
     "name": "stdout",
     "output_type": "stream",
     "text": [
      "     BsmtExposure BsmtFinType2 BsmtFinType1 BsmtQual BsmtCond\n",
      "17            NaN          NaN          NaN      NaN      NaN\n",
      "39            NaN          NaN          NaN      NaN      NaN\n",
      "90            NaN          NaN          NaN      NaN      NaN\n",
      "102           NaN          NaN          NaN      NaN      NaN\n",
      "156           NaN          NaN          NaN      NaN      NaN\n",
      "182           NaN          NaN          NaN      NaN      NaN\n",
      "259           NaN          NaN          NaN      NaN      NaN\n",
      "342           NaN          NaN          NaN      NaN      NaN\n",
      "362           NaN          NaN          NaN      NaN      NaN\n",
      "371           NaN          NaN          NaN      NaN      NaN\n",
      "392           NaN          NaN          NaN      NaN      NaN\n",
      "520           NaN          NaN          NaN      NaN      NaN\n",
      "532           NaN          NaN          NaN      NaN      NaN\n",
      "533           NaN          NaN          NaN      NaN      NaN\n",
      "553           NaN          NaN          NaN      NaN      NaN\n",
      "646           NaN          NaN          NaN      NaN      NaN\n",
      "705           NaN          NaN          NaN      NaN      NaN\n",
      "736           NaN          NaN          NaN      NaN      NaN\n",
      "749           NaN          NaN          NaN      NaN      NaN\n",
      "778           NaN          NaN          NaN      NaN      NaN\n",
      "868           NaN          NaN          NaN      NaN      NaN\n",
      "894           NaN          NaN          NaN      NaN      NaN\n",
      "897           NaN          NaN          NaN      NaN      NaN\n",
      "948           NaN          Unf          Unf       Gd       TA\n",
      "984           NaN          NaN          NaN      NaN      NaN\n",
      "1000          NaN          NaN          NaN      NaN      NaN\n",
      "1011          NaN          NaN          NaN      NaN      NaN\n",
      "1035          NaN          NaN          NaN      NaN      NaN\n",
      "1045          NaN          NaN          NaN      NaN      NaN\n",
      "1048          NaN          NaN          NaN      NaN      NaN\n",
      "1049          NaN          NaN          NaN      NaN      NaN\n",
      "1090          NaN          NaN          NaN      NaN      NaN\n",
      "1179          NaN          NaN          NaN      NaN      NaN\n",
      "1216          NaN          NaN          NaN      NaN      NaN\n",
      "1218          NaN          NaN          NaN      NaN      NaN\n",
      "1232          NaN          NaN          NaN      NaN      NaN\n",
      "1321          NaN          NaN          NaN      NaN      NaN\n",
      "1412          NaN          NaN          NaN      NaN      NaN\n",
      "Empty DataFrame\n",
      "Columns: [Id, MSSubClass, MSZoning, LotFrontage, LotArea, Street, Alley, LotShape, LandContour, Utilities, LotConfig, LandSlope, Neighborhood, Condition1, Condition2, BldgType, HouseStyle, OverallQual, OverallCond, YearBuilt, YearRemodAdd, RoofStyle, RoofMatl, Exterior1st, Exterior2nd, MasVnrType, MasVnrArea, ExterQual, ExterCond, Foundation, BsmtQual, BsmtCond, BsmtExposure, BsmtFinType1, BsmtFinSF1, BsmtFinType2, BsmtFinSF2, BsmtUnfSF, TotalBsmtSF, Heating, HeatingQC, CentralAir, Electrical, 1stFlrSF, 2ndFlrSF, LowQualFinSF, GrLivArea, BsmtFullBath, BsmtHalfBath, FullBath, HalfBath, BedroomAbvGr, KitchenAbvGr, KitchenQual, TotRmsAbvGrd, Functional, Fireplaces, FireplaceQu, GarageType, GarageYrBlt, GarageFinish, GarageCars, GarageArea, GarageQual, GarageCond, PavedDrive, WoodDeckSF, OpenPorchSF, EnclosedPorch, 3SsnPorch, ScreenPorch, PoolArea, PoolQC, Fence, MiscFeature, MiscVal, MoSold, YrSold, SaleType, SaleCondition, SalePrice]\n",
      "Index: []\n",
      "\n",
      "[0 rows x 81 columns]\n"
     ]
    }
   ],
   "source": [
    "#Basement       37 nulos generales\n",
    "#1 discrepancia en BsmtExposure,BsmtFinType2,consultar\n",
    "#BsmtExposure-Refers to walkout or garden level walls\n",
    "nul_bas=df[df['BsmtExposure'].isnull()]\n",
    "nul_bas[['BsmtExposure','BsmtFinType2','BsmtFinType1','BsmtQual','BsmtCond']]\n",
    "#Sustituir nulos por 'N_A' o consultar-nobasement porque unfinished?\n",
    "\n",
    "print(nul_bas[['BsmtExposure','BsmtFinType2','BsmtFinType1','BsmtQual','BsmtCond']])\n",
    "#Existen caracteristicas de sotano, pero esta inacabado, comprobacion\n",
    "\n",
    "df[(df['BsmtFinType1']=='Unf') & (df['BsmtFinType2']=='Unf')][['BsmtExposure','BsmtFinType2','BsmtFinType1','BsmtQual','BsmtCond']]\n",
    "\n",
    "#Comprobado que no se debe incluir el dato, sustituir por 'N_A'\n",
    "\n",
    "df.dropna(subset='BsmtExposure',inplace=True)\n",
    "print(df[df['BsmtExposure'].isnull()])"
   ]
  },
  {
   "cell_type": "code",
   "execution_count": 45,
   "metadata": {},
   "outputs": [
    {
     "name": "stdout",
     "output_type": "stream",
     "text": [
      "['Unf' 'BLQ' 'ALQ' 'Rec' 'LwQ' 'GLQ' 'N_A']\n"
     ]
    }
   ],
   "source": [
    "#Basement       37 nulos generales\n",
    "#1 discrepancia en BsmtExposure,BsmtFinType2,consultar\n",
    "#BsmtFinType2-Rating of basement finished area (if multiple types)\n",
    "nul_bas=df[df['BsmtFinType2'].isnull()]\n",
    "nul_bas[['BsmtExposure','BsmtFinType2','BsmtFinType1','BsmtQual','BsmtCond']]\n",
    "#Sustituir nulos por 'N_A'\n",
    "df.loc[df['BsmtFinType2'].isnull(),'BsmtFinType2']='N_A'\n",
    "print(df['BsmtFinType2'].unique())"
   ]
  },
  {
   "cell_type": "code",
   "execution_count": 46,
   "metadata": {},
   "outputs": [
    {
     "name": "stdout",
     "output_type": "stream",
     "text": [
      "['Gd' 'TA' 'Ex' 'Fa']\n"
     ]
    }
   ],
   "source": [
    "#BsmtQual          37\n",
    "#Relacionados BsmtCond,BsmtExposure,BsmtFinType2,BsmtFinType1,BsmtQual\n",
    "#Sustituir nulos por 'N_A'\n",
    "df.loc[df['BsmtQual'].isnull(),('BsmtExposure','BsmtFinType2','BsmtFinType1','BsmtQual','BsmtCond')]='N_A'\n",
    "print(df['BsmtQual'].unique())"
   ]
  },
  {
   "cell_type": "code",
   "execution_count": 47,
   "metadata": {},
   "outputs": [
    {
     "name": "stdout",
     "output_type": "stream",
     "text": [
      "['SBrkr' 'FuseF' 'FuseA' 'FuseP' 'Mix' nan]\n",
      "['SBrkr' 'FuseF' 'FuseA' 'FuseP' 'Mix']\n"
     ]
    }
   ],
   "source": [
    "#Electrical-Electrical system       1\n",
    "print(df['Electrical'].unique())\n",
    "df[df['Electrical'].isnull()]\n",
    "#Eliminar registro\n",
    "df.dropna(subset='Electrical',inplace=True)\n",
    "print(df['Electrical'].unique())"
   ]
  },
  {
   "cell_type": "code",
   "execution_count": 48,
   "metadata": {},
   "outputs": [
    {
     "name": "stdout",
     "output_type": "stream",
     "text": [
      "[nan 'TA' 'Gd' 'Fa' 'Ex' 'Po']\n",
      "['N_A' 'TA' 'Gd' 'Fa' 'Ex' 'Po']\n"
     ]
    }
   ],
   "source": [
    "#FireplaceQu-fireplace quality      690\n",
    "print(df['FireplaceQu'].unique())\n",
    "df[df['FireplaceQu'].isnull()]\n",
    "#En este caso los nulos indican no chimenea, sustituir por 'N_A'\n",
    "df.loc[df['FireplaceQu'].isnull(),'FireplaceQu']='N_A'\n",
    "print(df['FireplaceQu'].unique())"
   ]
  },
  {
   "cell_type": "code",
   "execution_count": 49,
   "metadata": {},
   "outputs": [
    {
     "name": "stdout",
     "output_type": "stream",
     "text": [
      "['Attchd' 'Detchd' 'BuiltIn' nan 'CarPort' 'Basment' '2Types']\n",
      "     GarageType  GarageYrBlt GarageFinish\n",
      "48          NaN          NaN          NaN\n",
      "78          NaN          NaN          NaN\n",
      "88          NaN          NaN          NaN\n",
      "89          NaN          NaN          NaN\n",
      "99          NaN          NaN          NaN\n",
      "...         ...          ...          ...\n",
      "1349        NaN          NaN          NaN\n",
      "1407        NaN          NaN          NaN\n",
      "1449        NaN          NaN          NaN\n",
      "1450        NaN          NaN          NaN\n",
      "1453        NaN          NaN          NaN\n",
      "\n",
      "[74 rows x 3 columns]\n",
      "['Attchd' 'Detchd' 'BuiltIn' 'N_A' 'CarPort' 'Basment' '2Types']\n"
     ]
    },
    {
     "name": "stderr",
     "output_type": "stream",
     "text": [
      "C:\\Users\\shiku\\AppData\\Local\\Temp\\ipykernel_26820\\941821186.py:8: FutureWarning: Setting an item of incompatible dtype is deprecated and will raise an error in a future version of pandas. Value 'N_A' has dtype incompatible with float64, please explicitly cast to a compatible dtype first.\n",
      "  df.loc[df['GarageType'].isnull(),('GarageType','GarageYrBlt','GarageFinish','GarageQual','GarageCond')]='N_A'\n"
     ]
    }
   ],
   "source": [
    "#GarageType        81\n",
    "\n",
    "print(df['GarageType'].unique())\n",
    "nul_gar=df[df['GarageType'].isnull()]\n",
    "print(nul_gar[['GarageType','GarageYrBlt','GarageFinish']])\n",
    "#El valor nulo indica no garage, sustituir por 'N_A'\n",
    "#Relacion con #GarageYrBlt,GarageFinish,GarageQual,GarageCond\n",
    "df.loc[df['GarageType'].isnull(),('GarageType','GarageYrBlt','GarageFinish','GarageQual','GarageCond')]='N_A'\n",
    "print(df['GarageType'].unique())"
   ]
  },
  {
   "cell_type": "code",
   "execution_count": 50,
   "metadata": {},
   "outputs": [
    {
     "data": {
      "text/plain": [
       "array(['N_A', 'Ex', 'Fa', 'Gd'], dtype=object)"
      ]
     },
     "execution_count": 50,
     "metadata": {},
     "output_type": "execute_result"
    }
   ],
   "source": [
    "#PoolQC-Pool quality          1453\n",
    "#Sustituir nulos por 'N_A'\n",
    "df.loc[df['PoolQC'].isnull(),'PoolQC']='N_A'\n",
    "df['PoolQC'].unique()\n"
   ]
  },
  {
   "cell_type": "code",
   "execution_count": 51,
   "metadata": {},
   "outputs": [
    {
     "data": {
      "text/plain": [
       "array(['N_A', 'MnPrv', 'GdWo', 'GdPrv', 'MnWw'], dtype=object)"
      ]
     },
     "execution_count": 51,
     "metadata": {},
     "output_type": "execute_result"
    }
   ],
   "source": [
    "#Fence-Fence quality           1179\n",
    "#Sustituir nulos por 'N_A'\n",
    "df.loc[df['Fence'].isnull(),'Fence']='N_A'\n",
    "df['Fence'].unique()"
   ]
  },
  {
   "cell_type": "code",
   "execution_count": 52,
   "metadata": {},
   "outputs": [
    {
     "data": {
      "text/plain": [
       "array(['N_A', 'Shed', 'Gar2', 'Othr', 'TenC'], dtype=object)"
      ]
     },
     "execution_count": 52,
     "metadata": {},
     "output_type": "execute_result"
    }
   ],
   "source": [
    "#MiscFeature-Miscellaneous feature not covered in other categories     1406\n",
    "#Sustituir nulos por 'N_A'\n",
    "df.loc[df['MiscFeature'].isnull(),'MiscFeature']='N_A'\n",
    "df['MiscFeature'].unique()"
   ]
  },
  {
   "cell_type": "markdown",
   "metadata": {},
   "source": [
    "Consultar nulos restantes"
   ]
  },
  {
   "cell_type": "code",
   "execution_count": 53,
   "metadata": {},
   "outputs": [
    {
     "name": "stdout",
     "output_type": "stream",
     "text": [
      "Series([], dtype: int64)\n"
     ]
    }
   ],
   "source": [
    "nul=df.isnull().sum()\n",
    "nul=nul[nul>0]\n",
    "print(nul)"
   ]
  },
  {
   "cell_type": "markdown",
   "metadata": {},
   "source": [
    "Transferir datos a csv"
   ]
  },
  {
   "cell_type": "code",
   "execution_count": 54,
   "metadata": {},
   "outputs": [],
   "source": [
    "df.to_csv(path_or_buf='../../datos/house/house_data.csv')"
   ]
  }
 ],
 "metadata": {
  "kernelspec": {
   "display_name": ".venv",
   "language": "python",
   "name": "python3"
  },
  "language_info": {
   "codemirror_mode": {
    "name": "ipython",
    "version": 3
   },
   "file_extension": ".py",
   "mimetype": "text/x-python",
   "name": "python",
   "nbconvert_exporter": "python",
   "pygments_lexer": "ipython3",
   "version": "3.12.7"
  }
 },
 "nbformat": 4,
 "nbformat_minor": 2
}
